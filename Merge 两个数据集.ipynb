{
 "cells": [
  {
   "cell_type": "code",
   "execution_count": 1,
   "id": "smaller-superior",
   "metadata": {},
   "outputs": [],
   "source": [
    "import pandas as pd \n",
    "import numpy as np \n",
    "from datetime import datetime"
   ]
  },
  {
   "cell_type": "code",
   "execution_count": 2,
   "id": "miniature-norway",
   "metadata": {},
   "outputs": [],
   "source": [
    "dataset = pd.read_csv('/Users/senlinlidewo/pyprogram/cctv_news_report/cctv_news_handle1.csv')\n",
    "dataset1 = pd.read_csv('/Users/senlinlidewo/pyprogram/cctv_news_report/cctv_news_handle_2017.csv')"
   ]
  },
  {
   "cell_type": "code",
   "execution_count": 3,
   "id": "humanitarian-passenger",
   "metadata": {},
   "outputs": [],
   "source": [
    "dataset1.reportday = pd.to_datetime(dataset1.reportday)"
   ]
  },
  {
   "cell_type": "code",
   "execution_count": 4,
   "id": "searching-coordinate",
   "metadata": {},
   "outputs": [],
   "source": [
    "dataset['reportday'] = dataset['report_day'].apply(lambda x: datetime.strptime(x,'%Y年%m月%d日'))"
   ]
  },
  {
   "cell_type": "code",
   "execution_count": 5,
   "id": "eastern-fluid",
   "metadata": {},
   "outputs": [],
   "source": [
    "dataset = dataset.drop(['Unnamed: 0','report_day'],axis=1)"
   ]
  },
  {
   "cell_type": "code",
   "execution_count": 6,
   "id": "cooperative-grave",
   "metadata": {},
   "outputs": [],
   "source": [
    "dataset1 = dataset1.drop('Unnamed: 0',axis=1)"
   ]
  },
  {
   "cell_type": "code",
   "execution_count": 7,
   "id": "automated-discovery",
   "metadata": {},
   "outputs": [],
   "source": [
    "dataset['report_day'] = dataset['reportday']\n",
    "dataset1['report_day'] = dataset1['reportday']\n",
    "del dataset1['reportday']\n",
    "del dataset['reportday']"
   ]
  },
  {
   "cell_type": "code",
   "execution_count": 8,
   "id": "smart-federation",
   "metadata": {},
   "outputs": [],
   "source": [
    "data = pd.concat([dataset,dataset1], axis=0)"
   ]
  },
  {
   "cell_type": "code",
   "execution_count": 9,
   "id": "independent-charm",
   "metadata": {},
   "outputs": [
    {
     "data": {
      "text/html": [
       "<div>\n",
       "<style scoped>\n",
       "    .dataframe tbody tr th:only-of-type {\n",
       "        vertical-align: middle;\n",
       "    }\n",
       "\n",
       "    .dataframe tbody tr th {\n",
       "        vertical-align: top;\n",
       "    }\n",
       "\n",
       "    .dataframe thead th {\n",
       "        text-align: right;\n",
       "    }\n",
       "</style>\n",
       "<table border=\"1\" class=\"dataframe\">\n",
       "  <thead>\n",
       "    <tr style=\"text-align: right;\">\n",
       "      <th></th>\n",
       "      <th>news</th>\n",
       "      <th>report_day</th>\n",
       "    </tr>\n",
       "  </thead>\n",
       "  <tbody>\n",
       "    <tr>\n",
       "      <th>0</th>\n",
       "      <td>中共中央政治局常委、全国人大常委会委员长张德江24号在人民大会堂与越共中央政治局委员、越南国...</td>\n",
       "      <td>2015-12-24</td>\n",
       "    </tr>\n",
       "    <tr>\n",
       "      <th>1</th>\n",
       "      <td>社论指出，“三农”向好，全局主动。农村改革发展的亮丽成绩，为我们战胜各种困难和风险增添了底气...</td>\n",
       "      <td>2015-12-25</td>\n",
       "    </tr>\n",
       "    <tr>\n",
       "      <th>2</th>\n",
       "      <td>习近平强调，新形势下办好解放军报，必须坚持军报姓党。解放军报是党领导和掌握、直接为党领导的人...</td>\n",
       "      <td>2015-12-26</td>\n",
       "    </tr>\n",
       "    <tr>\n",
       "      <th>3</th>\n",
       "      <td>前11月工业企业利润降幅收窄国内首条拥有完全自主知识产权的中低速磁浮快线在长沙试运行。该线路...</td>\n",
       "      <td>2015-12-27</td>\n",
       "    </tr>\n",
       "    <tr>\n",
       "      <th>4</th>\n",
       "      <td>在中央领导同志示范带动下，各级领导干部围绕“严以修身”，查找剖析理想信念、党性修养、道德情操...</td>\n",
       "      <td>2015-12-28</td>\n",
       "    </tr>\n",
       "    <tr>\n",
       "      <th>...</th>\n",
       "      <td>...</td>\n",
       "      <td>...</td>\n",
       "    </tr>\n",
       "    <tr>\n",
       "      <th>196</th>\n",
       "      <td>中央纪委公开曝光八起违反中央八项规定精神问题张德江指出，习近平总书记对英雄烈士保护立法作出重...</td>\n",
       "      <td>2017-12-27</td>\n",
       "    </tr>\n",
       "    <tr>\n",
       "      <th>197</th>\n",
       "      <td>在多国联合打击下，极端组织今年以来在伊拉克、叙利亚溃败，但其外溢效应不断冲击多国，恐袭事件在...</td>\n",
       "      <td>2017-12-28</td>\n",
       "    </tr>\n",
       "    <tr>\n",
       "      <th>198</th>\n",
       "      <td>中央投资390多亿 新一轮退耕还林完成《新闻联播》 20171229 19:00中宣部授予曲...</td>\n",
       "      <td>2017-12-29</td>\n",
       "    </tr>\n",
       "    <tr>\n",
       "      <th>199</th>\n",
       "      <td>土耳其也成为首个购买并部署S－400导弹系统的北约成员国，军售协议遭到西方国家反对。习近平指...</td>\n",
       "      <td>2017-12-30</td>\n",
       "    </tr>\n",
       "    <tr>\n",
       "      <th>200</th>\n",
       "      <td>7、元旦海采：2018新年心愿；10、“砥砺奋进的五年”大型成就展落幕；（4）叙媒：美军暗助...</td>\n",
       "      <td>2017-12-31</td>\n",
       "    </tr>\n",
       "  </tbody>\n",
       "</table>\n",
       "<p>1558 rows × 2 columns</p>\n",
       "</div>"
      ],
      "text/plain": [
       "                                                  news report_day\n",
       "0    中共中央政治局常委、全国人大常委会委员长张德江24号在人民大会堂与越共中央政治局委员、越南国... 2015-12-24\n",
       "1    社论指出，“三农”向好，全局主动。农村改革发展的亮丽成绩，为我们战胜各种困难和风险增添了底气... 2015-12-25\n",
       "2    习近平强调，新形势下办好解放军报，必须坚持军报姓党。解放军报是党领导和掌握、直接为党领导的人... 2015-12-26\n",
       "3    前11月工业企业利润降幅收窄国内首条拥有完全自主知识产权的中低速磁浮快线在长沙试运行。该线路... 2015-12-27\n",
       "4    在中央领导同志示范带动下，各级领导干部围绕“严以修身”，查找剖析理想信念、党性修养、道德情操... 2015-12-28\n",
       "..                                                 ...        ...\n",
       "196  中央纪委公开曝光八起违反中央八项规定精神问题张德江指出，习近平总书记对英雄烈士保护立法作出重... 2017-12-27\n",
       "197  在多国联合打击下，极端组织今年以来在伊拉克、叙利亚溃败，但其外溢效应不断冲击多国，恐袭事件在... 2017-12-28\n",
       "198  中央投资390多亿 新一轮退耕还林完成《新闻联播》 20171229 19:00中宣部授予曲... 2017-12-29\n",
       "199  土耳其也成为首个购买并部署S－400导弹系统的北约成员国，军售协议遭到西方国家反对。习近平指... 2017-12-30\n",
       "200  7、元旦海采：2018新年心愿；10、“砥砺奋进的五年”大型成就展落幕；（4）叙媒：美军暗助... 2017-12-31\n",
       "\n",
       "[1558 rows x 2 columns]"
      ]
     },
     "execution_count": 9,
     "metadata": {},
     "output_type": "execute_result"
    }
   ],
   "source": [
    "data"
   ]
  },
  {
   "cell_type": "code",
   "execution_count": 22,
   "id": "binding-library",
   "metadata": {},
   "outputs": [
    {
     "data": {
      "text/html": [
       "<div>\n",
       "<style scoped>\n",
       "    .dataframe tbody tr th:only-of-type {\n",
       "        vertical-align: middle;\n",
       "    }\n",
       "\n",
       "    .dataframe tbody tr th {\n",
       "        vertical-align: top;\n",
       "    }\n",
       "\n",
       "    .dataframe thead th {\n",
       "        text-align: right;\n",
       "    }\n",
       "</style>\n",
       "<table border=\"1\" class=\"dataframe\">\n",
       "  <thead>\n",
       "    <tr style=\"text-align: right;\">\n",
       "      <th></th>\n",
       "      <th>news</th>\n",
       "      <th>report_day</th>\n",
       "    </tr>\n",
       "  </thead>\n",
       "  <tbody>\n",
       "    <tr>\n",
       "      <th>0</th>\n",
       "      <td>中共中央政治局常委、全国人大常委会委员长张德江24号在人民大会堂与越共中央政治局委员、越南国...</td>\n",
       "      <td>2015-12-24</td>\n",
       "    </tr>\n",
       "    <tr>\n",
       "      <th>1</th>\n",
       "      <td>社论指出，“三农”向好，全局主动。农村改革发展的亮丽成绩，为我们战胜各种困难和风险增添了底气...</td>\n",
       "      <td>2015-12-25</td>\n",
       "    </tr>\n",
       "    <tr>\n",
       "      <th>2</th>\n",
       "      <td>习近平强调，新形势下办好解放军报，必须坚持军报姓党。解放军报是党领导和掌握、直接为党领导的人...</td>\n",
       "      <td>2015-12-26</td>\n",
       "    </tr>\n",
       "    <tr>\n",
       "      <th>3</th>\n",
       "      <td>前11月工业企业利润降幅收窄国内首条拥有完全自主知识产权的中低速磁浮快线在长沙试运行。该线路...</td>\n",
       "      <td>2015-12-27</td>\n",
       "    </tr>\n",
       "    <tr>\n",
       "      <th>4</th>\n",
       "      <td>在中央领导同志示范带动下，各级领导干部围绕“严以修身”，查找剖析理想信念、党性修养、道德情操...</td>\n",
       "      <td>2015-12-28</td>\n",
       "    </tr>\n",
       "    <tr>\n",
       "      <th>...</th>\n",
       "      <td>...</td>\n",
       "      <td>...</td>\n",
       "    </tr>\n",
       "    <tr>\n",
       "      <th>174</th>\n",
       "      <td>张德江说，习近平总书记在高层对话会上全面阐述了中国共产党推动构建人类命运共同体的理念和主张，...</td>\n",
       "      <td>2017-12-02</td>\n",
       "    </tr>\n",
       "    <tr>\n",
       "      <th>179</th>\n",
       "      <td>联合国秘书长古特雷斯说，他反对任何可能危及巴以和平前景的单边措施。他强调，耶路撒冷地位问题必...</td>\n",
       "      <td>2017-12-07</td>\n",
       "    </tr>\n",
       "    <tr>\n",
       "      <th>180</th>\n",
       "      <td>8、首届“南南人权论坛”闭幕 通过《北京宣言》；11、国内联播快讯：（1）2017年全国粮食...</td>\n",
       "      <td>2017-12-08</td>\n",
       "    </tr>\n",
       "    <tr>\n",
       "      <th>184</th>\n",
       "      <td>围绕着质量变革，中国正在展开一场从理念、目标、制度到具体领域工作细节的全方位变革，在中国经济...</td>\n",
       "      <td>2017-12-12</td>\n",
       "    </tr>\n",
       "    <tr>\n",
       "      <th>200</th>\n",
       "      <td>7、元旦海采：2018新年心愿；10、“砥砺奋进的五年”大型成就展落幕；（4）叙媒：美军暗助...</td>\n",
       "      <td>2017-12-31</td>\n",
       "    </tr>\n",
       "  </tbody>\n",
       "</table>\n",
       "<p>1492 rows × 2 columns</p>\n",
       "</div>"
      ],
      "text/plain": [
       "                                                  news report_day\n",
       "0    中共中央政治局常委、全国人大常委会委员长张德江24号在人民大会堂与越共中央政治局委员、越南国... 2015-12-24\n",
       "1    社论指出，“三农”向好，全局主动。农村改革发展的亮丽成绩，为我们战胜各种困难和风险增添了底气... 2015-12-25\n",
       "2    习近平强调，新形势下办好解放军报，必须坚持军报姓党。解放军报是党领导和掌握、直接为党领导的人... 2015-12-26\n",
       "3    前11月工业企业利润降幅收窄国内首条拥有完全自主知识产权的中低速磁浮快线在长沙试运行。该线路... 2015-12-27\n",
       "4    在中央领导同志示范带动下，各级领导干部围绕“严以修身”，查找剖析理想信念、党性修养、道德情操... 2015-12-28\n",
       "..                                                 ...        ...\n",
       "174  张德江说，习近平总书记在高层对话会上全面阐述了中国共产党推动构建人类命运共同体的理念和主张，... 2017-12-02\n",
       "179  联合国秘书长古特雷斯说，他反对任何可能危及巴以和平前景的单边措施。他强调，耶路撒冷地位问题必... 2017-12-07\n",
       "180  8、首届“南南人权论坛”闭幕 通过《北京宣言》；11、国内联播快讯：（1）2017年全国粮食... 2017-12-08\n",
       "184  围绕着质量变革，中国正在展开一场从理念、目标、制度到具体领域工作细节的全方位变革，在中国经济... 2017-12-12\n",
       "200  7、元旦海采：2018新年心愿；10、“砥砺奋进的五年”大型成就展落幕；（4）叙媒：美军暗助... 2017-12-31\n",
       "\n",
       "[1492 rows x 2 columns]"
      ]
     },
     "execution_count": 22,
     "metadata": {},
     "output_type": "execute_result"
    }
   ],
   "source": [
    "data1 = data.drop_duplicates(subset=['report_day'],keep=False)\n",
    "data1"
   ]
  },
  {
   "cell_type": "code",
   "execution_count": 24,
   "id": "executive-midnight",
   "metadata": {},
   "outputs": [
    {
     "name": "stderr",
     "output_type": "stream",
     "text": [
      "<ipython-input-24-cae66d11df88>:1: SettingWithCopyWarning: \n",
      "A value is trying to be set on a copy of a slice from a DataFrame\n",
      "\n",
      "See the caveats in the documentation: https://pandas.pydata.org/pandas-docs/stable/user_guide/indexing.html#returning-a-view-versus-a-copy\n",
      "  data1.sort_values('report_day',inplace=True)\n"
     ]
    }
   ],
   "source": [
    "data1.sort_values('report_day',inplace=True)"
   ]
  },
  {
   "cell_type": "code",
   "execution_count": 26,
   "id": "english-british",
   "metadata": {},
   "outputs": [],
   "source": [
    "data1.to_csv('/Users/senlinlidewo/pyprogram/cctv_news_report/cctv_news_dataset.csv')"
   ]
  },
  {
   "cell_type": "code",
   "execution_count": 27,
   "id": "herbal-public",
   "metadata": {},
   "outputs": [],
   "source": [
    "key_words1 = pd.read_csv('/Users/senlinlidewo/pyprogram/cctv_news_report/NLP_result_2017.csv')"
   ]
  },
  {
   "cell_type": "code",
   "execution_count": 28,
   "id": "located-gnome",
   "metadata": {},
   "outputs": [],
   "source": [
    "key_words2 = pd.read_csv('/Users/senlinlidewo/pyprogram/cctv_news_report/NLP_result.csv')"
   ]
  },
  {
   "cell_type": "code",
   "execution_count": 34,
   "id": "contemporary-indianapolis",
   "metadata": {},
   "outputs": [],
   "source": [
    "key_words2['date'] = key_words2['date'].apply(lambda x: datetime.strptime(x,'%Y年%m月%d日'))"
   ]
  },
  {
   "cell_type": "code",
   "execution_count": 35,
   "id": "periodic-helmet",
   "metadata": {},
   "outputs": [],
   "source": [
    "key_words1.date = pd.to_datetime(key_words1.date)"
   ]
  },
  {
   "cell_type": "code",
   "execution_count": 36,
   "id": "stopped-ladder",
   "metadata": {},
   "outputs": [],
   "source": [
    "key_words = pd.concat([key_words1,key_words2],axis=0)"
   ]
  },
  {
   "cell_type": "code",
   "execution_count": 38,
   "id": "difficult-infrastructure",
   "metadata": {},
   "outputs": [],
   "source": [
    "key_words = key_words.drop('Unnamed: 0',axis=1)"
   ]
  },
  {
   "cell_type": "code",
   "execution_count": 39,
   "id": "gothic-gauge",
   "metadata": {},
   "outputs": [],
   "source": [
    "key_words.sort_values('date',inplace=True)"
   ]
  },
  {
   "cell_type": "code",
   "execution_count": 41,
   "id": "virtual-prayer",
   "metadata": {},
   "outputs": [],
   "source": [
    "key_words.to_csv('/Users/senlinlidewo/pyprogram/cctv_news_report/NLP_result_keywords.csv')"
   ]
  },
  {
   "cell_type": "code",
   "execution_count": null,
   "id": "sized-marine",
   "metadata": {},
   "outputs": [],
   "source": []
  }
 ],
 "metadata": {
  "kernelspec": {
   "display_name": "Python 3",
   "language": "python",
   "name": "python3"
  },
  "language_info": {
   "codemirror_mode": {
    "name": "ipython",
    "version": 3
   },
   "file_extension": ".py",
   "mimetype": "text/x-python",
   "name": "python",
   "nbconvert_exporter": "python",
   "pygments_lexer": "ipython3",
   "version": "3.8.8"
  }
 },
 "nbformat": 4,
 "nbformat_minor": 5
}
